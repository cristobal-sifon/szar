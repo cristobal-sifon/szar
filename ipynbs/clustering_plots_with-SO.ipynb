{
 "cells": [
  {
   "cell_type": "code",
   "execution_count": 1,
   "metadata": {},
   "outputs": [],
   "source": [
    "%matplotlib inline\n",
    "%config InlineBackend.figure_format = 'retina'\n",
    "import matplotlib\n",
    "matplotlib.rc('font', **{'family': 'serif', 'serif': ['Computer Modern']})\n",
    "matplotlib.rcParams['text.usetex'] = True\n",
    "matplotlib.rcParams['text.latex.unicode'] = True\n",
    "matplotlib.rcParams['figure.dpi']= 150\n",
    "matplotlib.rcParams[\"svg.fonttype\"] = \"none\"\n",
    "matplotlib.rcParams['figure.figsize'] = [7, 7]\n",
    "import matplotlib.pyplot as plt\n",
    "matplotlib.rcParams.update({'figure.autolayout': True})\n",
    "import seaborn as sns"
   ]
  },
  {
   "cell_type": "code",
   "execution_count": 2,
   "metadata": {},
   "outputs": [],
   "source": [
    "sns.set(style='whitegrid', font_scale=1.4, rc={\"lines.linewidth\": 1.5,'lines.markersize': 4.0, 'axes.facecolor': 'white'}, font=\"serif\")"
   ]
  },
  {
   "cell_type": "code",
   "execution_count": 3,
   "metadata": {},
   "outputs": [],
   "source": [
    "import pickle\n",
    "import numpy as np\n",
    "from orphics.stats import FisherMatrix\n",
    "from six.moves import configparser\n",
    "import six\n",
    "\n",
    "if six.PY2:\n",
    "    ConfigParser = configparser.SafeConfigParser\n",
    "else:\n",
    "    ConfigParser = configparser.ConfigParser"
   ]
  },
  {
   "cell_type": "code",
   "execution_count": 4,
   "metadata": {},
   "outputs": [],
   "source": [
    "from bin.futils import load_fisher"
   ]
  },
  {
   "cell_type": "code",
   "execution_count": 59,
   "metadata": {},
   "outputs": [
    {
     "name": "stdout",
     "output_type": "stream",
     "text": [
      "b_wl not in this matrix\n",
      "b_wl not in this matrix\n"
     ]
    },
    {
     "name": "stderr",
     "output_type": "stream",
     "text": [
      "/Users/dylan/Development/szar/bin/futils.py:36: UserWarning: Pandas doesn't allow columns to be created via a new attribute name - see https://pandas.pydata.org/pandas-docs/stable/indexing.html#attribute-access\n",
      "  fisher.params = fisher.columns.values.tolist()\n"
     ]
    }
   ],
   "source": [
    "so_fisher_files = ['../datatest/so/sum_so_goal_abund_plus_planck_tau-10minus2.pkl',\n",
    "                   '../datatest/so/sum_so_goal_abund_plus_planck_tau-10minus2_clustering_abias.pkl',\n",
    "                  '../datatest/so/sum_so_goal_abund_plus_planck_tau-10minus2_clustering.pkl']\n",
    "\n",
    "s4_fisher_files = ['../datatest/s4/sum_s4_abund_plus_planck_tau-10minus2.pkl',\n",
    "                   '../datatest/s4/sum_s4_abund_plus_planck_tau-10minus2_clustering_abias.pkl',\n",
    "                  '../datatest/s4/sum_s4_abund_plus_planck_tau-10minus2_clustering.pkl']\n",
    "\n",
    "fisher_labels = ['Ab+Pl',\n",
    "                'Ab+Pl+Cl+abias',\n",
    "                'Ab+Pl+Cl']\n",
    "\n",
    "colors = ['#2e7daa', \n",
    "          '#a80639', \n",
    "          '#f7d25b']\n",
    "\n",
    "so_fisher_list = []\n",
    "for file_ in so_fisher_files:\n",
    "    fishmat = load_fisher(file_)\n",
    "    try:\n",
    "        fishmat.delete('b_wl')\n",
    "    except:\n",
    "        print('b_wl not in this matrix')\n",
    "    so_fisher_list.append(fishmat)\n",
    "\n",
    "s4_fisher_list = []\n",
    "for file_ in s4_fisher_files:\n",
    "    fishmat = load_fisher(file_)\n",
    "    try:\n",
    "        fishmat.delete('b_wl')\n",
    "    except:\n",
    "        print('b_wl not in this matrix')\n",
    "    s4_fisher_list.append(fishmat)"
   ]
  },
  {
   "cell_type": "code",
   "execution_count": 63,
   "metadata": {},
   "outputs": [],
   "source": [
    "so_constraint_list = [fish.sigmas() for fish in so_fisher_list]\n",
    "s4_constraint_list = [fish.sigmas() for fish in s4_fisher_list]"
   ]
  },
  {
   "cell_type": "code",
   "execution_count": 64,
   "metadata": {},
   "outputs": [
    {
     "name": "stderr",
     "output_type": "stream",
     "text": [
      "/Users/dylan/Development/orphics/orphics/stats.py:204: UserWarning: Pandas doesn't allow columns to be created via a new attribute name - see https://pandas.pydata.org/pandas-docs/stable/indexing.html#attribute-access\n",
      "  self.params = param_list\n"
     ]
    }
   ],
   "source": [
    "def _get_latex_params(inifile, fish_sect='fisher-clustering'):\n",
    "    config = ConfigParser()\n",
    "    config.optionxform=str\n",
    "    config.read(inifile)\n",
    "\n",
    "    latex_param_list = config.items(fish_sect, 'paramLatexList')[1][1].split(',')\n",
    "    return latex_param_list\n",
    "\n",
    "INI = '../input/pipeline.ini'\n",
    "\n",
    "latex_params = _get_latex_params(INI)\n",
    "latex_paramdict = {}\n",
    "\n",
    "#ordered_params = 'omch2,ombh2,H0,ns,As,mnu,w0,wa,alpha_ym,b_ym,beta_ym,gamma_ym,Ysig,gammaYsig,betaYsig'\n",
    "ordered_params = 'omch2,ombh2,H0,ns,As,mnu,w0,alpha_ym,b_ym,beta_ym,gamma_ym,Ysig,gammaYsig,betaYsig'\n",
    "ordered_params = ordered_params.split(',')\n",
    "ordered_fisher = so_fisher_list[0].copy().reordered(ordered_params)\n",
    "for index,key in enumerate(ordered_fisher.columns.values):\n",
    "    latex_paramdict[key] = latex_params[index]"
   ]
  },
  {
   "cell_type": "code",
   "execution_count": 65,
   "metadata": {},
   "outputs": [
    {
     "data": {
      "text/plain": [
       "{'omch2': '\\\\Omega_ch^2',\n",
       " 'ombh2': '\\\\Omega_bh^2',\n",
       " 'H0': 'H_0',\n",
       " 'ns': 'n_s',\n",
       " 'As': 'A_s',\n",
       " 'mnu': '\\\\Sigma m_{\\\\nu}',\n",
       " 'w0': 'w',\n",
       " 'alpha_ym': 'w_a',\n",
       " 'b_ym': '\\\\alpha_y',\n",
       " 'beta_ym': 'b',\n",
       " 'gamma_ym': '\\\\beta_y',\n",
       " 'Ysig': '\\\\gamma_Y',\n",
       " 'gammaYsig': '\\\\sigma_{\\\\mathrm{log}Y}',\n",
       " 'betaYsig': '\\\\gamma_\\\\sigma'}"
      ]
     },
     "execution_count": 65,
     "metadata": {},
     "output_type": "execute_result"
    }
   ],
   "source": [
    "latex_paramdict"
   ]
  },
  {
   "cell_type": "code",
   "execution_count": 66,
   "metadata": {},
   "outputs": [],
   "source": [
    "params_to_plot = ['H0', 'mnu', 'ombh2', 'omch2', 'w0', 'ns']\n",
    "latex_to_plot = ['$' + latex_paramdict[key] + '$' for key in params_to_plot]"
   ]
  },
  {
   "cell_type": "code",
   "execution_count": 67,
   "metadata": {},
   "outputs": [],
   "source": [
    "import pandas as pd"
   ]
  },
  {
   "cell_type": "code",
   "execution_count": 70,
   "metadata": {},
   "outputs": [
    {
     "data": {
      "image/png": "[encoded data removed]",
      "text/plain": [
       "<Figure size 864x288 with 6 Axes>"
      ]
     },
     "metadata": {
      "image/png": {
       "height": 334,
       "width": 842
      }
     },
     "output_type": "display_data"
    }
   ],
   "source": [
    "fig,axes = plt.subplots(1,len(params_to_plot), figsize=(12, 4))\n",
    "\n",
    "for index,param in enumerate(params_to_plot):\n",
    "    latex = '$' + latex_paramdict[param] + '$'\n",
    "    wth = 1\n",
    "    #sigmas = np.array([constraints_ab[param],constraints[param], oldconstraints[param]])\n",
    "    \n",
    "    for fish_index in range(len(so_fisher_list)):\n",
    "        axes[index].bar(0, so_constraint_list[fish_index][param], width=wth, \n",
    "                        label=fisher_labels[fish_index], color=colors[fish_index])\n",
    "        \n",
    "    for fish_index in range(len(s4_fisher_list)):\n",
    "        axes[index].bar(1.5, s4_constraint_list[fish_index][param], width=wth, \n",
    "                        color=colors[fish_index])\n",
    "        \n",
    "    axes[index].set_xlabel(latex)\n",
    "    axes[index].xaxis.set_ticks_position('none') \n",
    "    axes[index].set_xticks((0,1.5))\n",
    "    axes[index].set_xticklabels(('SO', 'S4'))\n",
    "    axes[index].set_xlim(-(wth + wth/2)/2 , 1.5 +(wth + wth/2)/2)\n",
    "    axes[index].set_ylabel(r'$\\sigma_{'+latex_paramdict[param]+'}$')\n",
    "    axes[index].grid(False, axis='x')\n",
    "    \n",
    "handles, labels = axes[-1].get_legend_handles_labels()\n",
    "fig.legend(handles, labels, loc='lower center', bbox_to_anchor=(.5, 0.9))\n",
    "fig.tight_layout()\n",
    "#fig.savefig('barplot.eps', bbox_inches='tight')"
   ]
  },
  {
   "cell_type": "code",
   "execution_count": null,
   "metadata": {},
   "outputs": [],
   "source": [
    "import os,sys,inspect\n",
    "currentdir = os.path.dirname(os.path.abspath(inspect.getfile(inspect.currentframe())))\n",
    "parentdir = os.path.dirname(currentdir)\n",
    "sys.path.insert(0,parentdir+'/bin') \n",
    "from deeos_to_gamma import get_gamma_constraint"
   ]
  },
  {
   "cell_type": "code",
   "execution_count": null,
   "metadata": {},
   "outputs": [],
   "source": [
    "sigma_gamma_old = get_gamma_constraint(oldfisher, oldfisher.columns.values)\n",
    "sigma_gamma = get_gamma_constraint(fisher, fisher.columns.values)\n",
    "sigma_gamma_ab = get_gamma_constraint(fisher_ab, fisher_ab.columns.values)"
   ]
  },
  {
   "cell_type": "code",
   "execution_count": null,
   "metadata": {},
   "outputs": [],
   "source": [
    "wth = 1\n",
    "plt.bar(0, sigma_gamma_old, width=1, label='Pl+Ab'\n",
    "                    , color='#2e7daa')\n",
    "plt.bar(0, sigma_gamma_ab, width=wth, \n",
    "                label='Pl+Ab+Cl \\n w/ $a_\\mathrm{bias}$', color='#a80639')\n",
    "plt.bar(0, sigma_gamma, width=wth, \n",
    "                label='Pl+Ab+Cl', color='#f7d25b')\n",
    "plt.xlabel(r'$\\gamma$')\n",
    "plt.tick_params(\n",
    "    axis='x',          # changes apply to the x-axis\n",
    "    which='both',      # both major and minor ticks are affected\n",
    "    bottom=False,      # ticks along the bottom edge are off\n",
    "    top=False,         # ticks along the top edge are off\n",
    "    labelbottom=False) # labels along the bottom edge are off\n",
    "plt.xlim(-(wth + wth/2)/2 , (wth + wth/2)/2)\n",
    "plt.ylabel(r'$\\sigma_{\\gamma}$')\n",
    "plt.legend(loc='center left', bbox_to_anchor=(1, 0.2))\n",
    "fig = plt.gcf()\n",
    "fig.set_size_inches(13/7 + 1.8,4)\n",
    "fig.tight_layout()\n",
    "#fig.savefig('gamma_barplot.svg', bbox_inches='tight')"
   ]
  },
  {
   "cell_type": "code",
   "execution_count": null,
   "metadata": {},
   "outputs": [],
   "source": [
    "from orphics.io import dict_from_section,list_from_config\n",
    "Config = ConfigParser()\n",
    "Config.optionxform=str\n",
    "Config.read(INI)\n",
    "clttfile = Config.get('general','clttfile')\n",
    "constDict = dict_from_section(Config,'constants')\n",
    "\n",
    "fparams = {}\n",
    "for (key, val) in Config.items('params'):\n",
    "    if ',' in val:\n",
    "        param, step = val.split(',')\n",
    "        fparams[key] = float(param)\n",
    "    else:\n",
    "        fparams[key] = float(val)"
   ]
  },
  {
   "cell_type": "code",
   "execution_count": null,
   "metadata": {},
   "outputs": [],
   "source": [
    "latex_dict_to_plot={}\n",
    "for ind,key in enumerate(params_to_plot):\n",
    "    latex_dict_to_plot[key] = latex_to_plot[ind]"
   ]
  },
  {
   "cell_type": "code",
   "execution_count": null,
   "metadata": {},
   "outputs": [],
   "source": [
    "from orphics.stats import corner_plot"
   ]
  },
  {
   "cell_type": "code",
   "execution_count": null,
   "metadata": {},
   "outputs": [],
   "source": [
    "fishers_to_plot = so_fisher_list + s4_fisher_list\n",
    "corner_labels = ['Pl+Ab (SO)', r'Pl+Ab+Cl w/$a_{bias} (SO)$', 'Pl+Ab+Cl (SO)',\n",
    "                 'Pl+Ab (S4)', r'Pl+Ab+Cl w/$a_{bias} (S4)$', 'Pl+Ab+Cl (S4)']\n",
    "corner_colors = ['#2e7daa','#a80639','#f7d25b', '#42f4cb', '#f49d41', '#49bc2d']\n",
    "corner_plot(fishers_to_plot, corner_labels, colors=corner_colors, fid_dict=fparams, params=params_to_plot,\n",
    "            show_1d=False, loc='upper right', latex_dict=latex_dict_to_plot, thk=3,\n",
    "            labelsize=22, rotate_xlabels=True, xpad=30, save_file='paper_cornerplot_so.pdf',\n",
    "            fileformat='pdf')"
   ]
  },
  {
   "cell_type": "code",
   "execution_count": null,
   "metadata": {},
   "outputs": [],
   "source": [
    "s4_fisher_list[0].values.mean()/so_fisher_list[0].values.mean()"
   ]
  },
  {
   "cell_type": "code",
   "execution_count": null,
   "metadata": {},
   "outputs": [],
   "source": [
    "s4_fisher_list[0]['H0']['H0']/so_fisher_list[0]['H0']['H0']"
   ]
  },
  {
   "cell_type": "code",
   "execution_count": null,
   "metadata": {},
   "outputs": [],
   "source": [
    "s4_fisher_list[0]['omch2']"
   ]
  },
  {
   "cell_type": "code",
   "execution_count": null,
   "metadata": {},
   "outputs": [],
   "source": [
    "so_fisher_list[1]['mnu']['mnu']/so_fisher_list[2]['mnu']['mnu']"
   ]
  },
  {
   "cell_type": "code",
   "execution_count": null,
   "metadata": {},
   "outputs": [],
   "source": []
  }
 ],
 "metadata": {
  "kernelspec": {
   "display_name": "Python 3",
   "language": "python",
   "name": "python3"
  },
  "language_info": {
   "codemirror_mode": {
    "name": "ipython",
    "version": 3
   },
   "file_extension": ".py",
   "mimetype": "text/x-python",
   "name": "python",
   "nbconvert_exporter": "python",
   "pygments_lexer": "ipython3",
   "version": "3.7.2"
  }
 },
 "nbformat": 4,
 "nbformat_minor": 2
}
